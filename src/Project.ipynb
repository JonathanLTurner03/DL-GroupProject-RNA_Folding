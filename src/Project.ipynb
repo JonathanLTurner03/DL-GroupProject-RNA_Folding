{
  "cells": [
    {
      "cell_type": "markdown",
      "metadata": {
        "id": "l37bn3-3nP5S"
      },
      "source": [
        "CS 4277: Deep Learning Group Project"
      ]
    },
    {
      "cell_type": "markdown",
      "metadata": {
        "id": "VoeTYxZjnP5U"
      },
      "source": [
        "## CS 4277: *Deep Learning* Group Project\n",
        "### Members:\n",
        "- Nicholas Hodge\n",
        "- Joshua Peeples\n",
        "- Jonathan Turner\n",
        "\n",
        "### This project is our attempt at the Stanford RNA 3D Folding Challenge, found at:\n",
        "\n",
        "https://www.kaggle.com/competitions/stanford-rna-3d-folding\n",
        "\n",
        "**For this project to run:**\n",
        "\n",
        "1. Install matplotlib in your Jupyter Kernel: Block [1]\n",
        "2. Setup correct path files to your train dataset: Block [7] (there is a comment)\n",
        "\n",
        "**Future work:**\n",
        "\n",
        "1. Setup validation correctly\n",
        "2. Test\n",
        "3. Return Submission.csv as per requirements"
      ]
    },
    {
      "cell_type": "code",
      "execution_count": 1,
      "metadata": {
        "id": "BGEUeleSnP5U"
      },
      "outputs": [],
      "source": [
        "# Uncomment and run if matplotlib not installed\n",
        "# !  python -m pip install matplotlib"
      ]
    },
    {
      "cell_type": "code",
      "execution_count": 2,
      "metadata": {
        "id": "Z_qewxm9nP5V"
      },
      "outputs": [
        {
          "name": "stderr",
          "output_type": "stream",
          "text": [
            "/home/josh/Documents/Visual Studio/Deep Learning/Term Project/DL-GroupProject-RNA_Folding/.venv/lib64/python3.13/site-packages/tqdm/auto.py:21: TqdmWarning: IProgress not found. Please update jupyter and ipywidgets. See https://ipywidgets.readthedocs.io/en/stable/user_install.html\n",
            "  from .autonotebook import tqdm as notebook_tqdm\n"
          ]
        }
      ],
      "source": [
        "import numpy as np\n",
        "import pandas as pd\n",
        "\n",
        "import torch\n",
        "import torch.nn as nn\n",
        "from torch.utils.data import Dataset, DataLoader\n",
        "\n",
        "import matplotlib.pyplot as plt\n",
        "from IPython.display import clear_output\n",
        "from tqdm.auto import tqdm\n",
        "\n",
        "# containers to accumulate metrics\n",
        "batch_loss_history = [] # one entry per batch\n",
        "epoch_loss_history = [] # one entry per epoch"
      ]
    },
    {
      "cell_type": "code",
      "execution_count": 3,
      "metadata": {
        "id": "198NcZ8bnP5V"
      },
      "outputs": [],
      "source": [
        "NUC_TO_IDX = {\n",
        "    \"A\": 0,\n",
        "    \"U\": 1,\n",
        "    \"C\": 2,\n",
        "    \"G\": 3,\n",
        "    \"N\": 4 # There are characters *other* than the above 4 sometimes. 'N' is standard for \"unknown\" (apparently)\n",
        "}\n",
        "PAD_IDX = 5\n",
        "VOCAB_SIZE = len(NUC_TO_IDX) + 1\n",
        "\n",
        "# Annotated to avoid later confusion - Nick\n",
        "# This is inherits the Dataset class from pytorch to allow for the dataset to be an Iterable (i.e. work a LOT faster)\n",
        "class RNADataset(Dataset):\n",
        "    def __init__(self, seq_csv_path, coords_csv_path):\n",
        "        # Read both train CSVs (the 'labels' csv -> 'coords')\n",
        "        self.sequences_df = pd.read_csv(seq_csv_path)\n",
        "        coords_df_raw = pd.read_csv(coords_csv_path)\n",
        "\n",
        "        # We are going to get the base_id from each row in coords to associate them with the correct sequence.\n",
        "        # 1SCL_A_5 becomes 1SCL_A\n",
        "        coords_df_raw[\"base_id\"] = coords_df_raw[\"ID\"].apply(lambda x: \"_\".join(x.split(\"_\")[:2]))\n",
        "\n",
        "        # Now we are going to create groups of coords, where each group corresponds with the same sequence\n",
        "        # Unfortunately some sequences have missing coord values, but I am going to assume that there are potential\n",
        "        # sequences that have some missing and some not. So:\n",
        "\n",
        "        # Method to remove entire groups where *any* row has missing coords\n",
        "        def is_group_valid(group):\n",
        "            return group[[\"x_1\", \"y_1\", \"z_1\"]].notna().all().all() # returns only rows where all columns are good\n",
        "\n",
        "        valid_groups = [\n",
        "            group for _, group in coords_df_raw.groupby(\"base_id\") if is_group_valid(group)\n",
        "        ]\n",
        "\n",
        "        # Concatenate all valid groups into a new coords_df\n",
        "        self.coords_df = pd.concat(valid_groups, ignore_index=True)\n",
        "\n",
        "        # Build groups and valid sequence IDs list\n",
        "        self.coord_groups = self.coords_df.groupby(\"base_id\")\n",
        "        self.valid_ids = set(self.coord_groups.groups.keys())\n",
        "\n",
        "        # Filter sequences to only include those with clean coordinate groups (prevents later tensors from being mishaped)\n",
        "        self.sequences_df = self.sequences_df[self.sequences_df[\"target_id\"].isin(self.valid_ids)]\n",
        "\n",
        "    # Optional but Pytorch docs suggest this for 'Sampler' implmentations (might need that?)\n",
        "    def __len__(self):\n",
        "        return len(self.sequences_df)\n",
        "\n",
        "    # Optional but Pytorch docs suggest this for speedup batched samples loading\n",
        "    def __getitem__(self, idx):\n",
        "        row = self.sequences_df.iloc[idx]\n",
        "        seq_id = row[\"target_id\"]\n",
        "        sequence = row[\"sequence\"]\n",
        "\n",
        "        token_ids = [NUC_TO_IDX.get(nuc, NUC_TO_IDX[\"N\"]) for nuc in sequence]\n",
        "        token_ids = torch.tensor(token_ids, dtype=torch.long)\n",
        "\n",
        "        # Here we introduce standardization to the coordinates\n",
        "\n",
        "        # TODO: calculate the following values somewhere in the document in case the dataset changes:\n",
        "        # Currently precalculated values\n",
        "        mean_x = 80.44731529117061\n",
        "        std_x = 147.42231938515297\n",
        "        mean_y = 84.04072703411182\n",
        "        std_y = 114.92890150429712\n",
        "        mean_z = 98.61122565112208\n",
        "        std_z = 119.41066506340083\n",
        "\n",
        "        coords_standardized = self.coord_groups.get_group(seq_id)[[\"x_1\", \"y_1\", \"z_1\"]].values\n",
        "        coords_standardized[:, 0] = (coords_standardized[:, 0] - mean_x) / std_x\n",
        "        coords_standardized[:, 1] = (coords_standardized[:, 1] - mean_y) / std_y\n",
        "        coords_standardized[:, 2] = (coords_standardized[:, 2] - mean_z) / std_z\n",
        "\n",
        "        coords = torch.tensor(coords_standardized, dtype=torch.float32)\n",
        "\n",
        "        return token_ids, coords"
      ]
    },
    {
      "cell_type": "code",
      "execution_count": 4,
      "metadata": {
        "id": "Ac683bn5nP5W"
      },
      "outputs": [],
      "source": [
        "# Pad sequences in collate_fn\n",
        "def collate_fn(batch):\n",
        "    sequences, coords = zip(*batch)\n",
        "\n",
        "    # Pad sequences with PAD_IDX\n",
        "    seq_padded = torch.nn.utils.rnn.pad_sequence(sequences, batch_first=True, padding_value=PAD_IDX)\n",
        "    coord_padded = torch.nn.utils.rnn.pad_sequence(coords, batch_first=True, padding_value=0.0)\n",
        "\n",
        "    # Mask should check against PAD_IDX\n",
        "    mask = (seq_padded != PAD_IDX).unsqueeze(1).unsqueeze(2)\n",
        "\n",
        "    return seq_padded, coord_padded, mask"
      ]
    },
    {
      "cell_type": "code",
      "execution_count": 5,
      "metadata": {
        "id": "iFKtgnu9nP5W"
      },
      "outputs": [],
      "source": [
        "# Source: Aladdin Persson on YouTube (then modified to have an encoder-only architecture)\n",
        "\n",
        "class SelfAttention(nn.Module):\n",
        "    def __init__(self, embed_size, heads, dropout):\n",
        "        super(SelfAttention, self).__init__()\n",
        "        self.embed_size = embed_size\n",
        "        self.heads = heads\n",
        "        self.head_dim = embed_size // heads\n",
        "\n",
        "        assert (self.head_dim * heads == embed_size), \"Embed size needs to be divisible by heads\"\n",
        "\n",
        "        self.values = nn.Linear(self.head_dim, self.head_dim, bias=False)\n",
        "        self.keys = nn.Linear(self.head_dim, self.head_dim, bias=False)\n",
        "        self.queries = nn.Linear(self.head_dim, self.head_dim, bias=False)\n",
        "        self.fc_out = nn.Linear(heads * self.head_dim, embed_size)\n",
        "        self.dropout = nn.Dropout(dropout)\n",
        "\n",
        "    def forward(self, values, keys, query, mask):\n",
        "        N, value_len, _ = values.shape\n",
        "        _, key_len, _ = keys.shape\n",
        "        _, query_len, _ = query.shape\n",
        "\n",
        "        # Split embedding into self.heads pieces\n",
        "        values = values.reshape(N, value_len, self.heads, self.head_dim)\n",
        "        keys = keys.reshape(N, key_len, self.heads, self.head_dim)\n",
        "        queries = query.reshape(N, query_len, self.heads, self.head_dim)\n",
        "\n",
        "        values = self.values(values)\n",
        "        keys = self.keys(keys)\n",
        "        queries = self.queries(queries)\n",
        "\n",
        "        energy = torch.einsum(\"nqhd,nkhd->nhqk\", [queries, keys])\n",
        "        # queries shape: (N, query_len, heads, heads_dim)\n",
        "        # keys shape: (N, key_len, heads, heads_dim)\n",
        "        # energy shape: (N, heads, query_len, key_len)\n",
        "\n",
        "        if mask is not None:\n",
        "            # mask: (batch, 1, 1, seq_len) -> broadcastable to (batch, heads, query_len, key_len)\n",
        "            energy = energy.masked_fill(mask == 0, float(\"-1e9\"))\n",
        "\n",
        "        attention = torch.softmax(energy / (self.embed_size ** 0.5), dim=3)\n",
        "        attention = self.dropout(attention)\n",
        "\n",
        "        out = torch.einsum(\"nhql,nlhd->nqhd\", [attention, values]).reshape(\n",
        "            N, query_len, self.heads * self.head_dim\n",
        "        )\n",
        "        # attention shape: (N, heads, query_len, key_len)\n",
        "        # values shape: (N, value_len, heads, heads_dim)\n",
        "        # after einsum (N, query_len, heads, head_dim) then flatten last two dimensions\n",
        "\n",
        "        out = self.fc_out(out)\n",
        "        return out\n",
        "\n",
        "class TransformerBlock(nn.Module):\n",
        "    def __init__(self, embed_size, heads, dropout, forward_expansion):\n",
        "        super(TransformerBlock, self).__init__()\n",
        "        self.attention = SelfAttention(embed_size, heads, dropout)\n",
        "        self.norm1 = nn.LayerNorm(embed_size)\n",
        "        self.norm2 = nn.LayerNorm(embed_size)\n",
        "\n",
        "        self.feed_forward = nn.Sequential(\n",
        "            nn.Linear(embed_size, forward_expansion * embed_size),\n",
        "            nn.ReLU(),\n",
        "            nn.Dropout(dropout),\n",
        "            nn.Linear(forward_expansion * embed_size, embed_size)\n",
        "        )\n",
        "        self.dropout = nn.Dropout(dropout)\n",
        "\n",
        "    def forward(self, x, mask):\n",
        "        attention = self.attention(x, x, x, mask)\n",
        "\n",
        "        x = self.dropout(self.norm1(attention + x))\n",
        "        forward = self.feed_forward(x)\n",
        "        out = self.dropout(self.norm2(forward + x))\n",
        "        return out\n",
        "\n",
        "class RNA3DFoldPredictor(nn.Module):\n",
        "    def __init__(self,\n",
        "                 vocab_size,\n",
        "                 embed_size,\n",
        "                 num_layers,\n",
        "                 heads,\n",
        "                 forward_expansion,\n",
        "                 dropout,\n",
        "                 max_length):\n",
        "        super().__init__()\n",
        "        self.embed_size = embed_size\n",
        "        self.token_embedding = nn.Embedding(vocab_size, embed_size)\n",
        "        self.position_embedding = nn.Embedding(max_length, embed_size)\n",
        "\n",
        "        self.layers = nn.ModuleList([\n",
        "            TransformerBlock(embed_size, heads, dropout, forward_expansion)\n",
        "            for _ in range(num_layers)\n",
        "        ])\n",
        "        self.fc_out = nn.Linear(embed_size, 3)  # Predict (x, y, z)\n",
        "\n",
        "    def forward(self, x, mask=None):\n",
        "        N, seq_len = x.shape\n",
        "\n",
        "        positions = torch.arange(0, seq_len).unsqueeze(0).expand(N, seq_len).to(x.device)\n",
        "\n",
        "        out = self.token_embedding(x) + self.position_embedding(positions)\n",
        "        for layer in self.layers:\n",
        "            out = layer(out, mask)\n",
        "\n",
        "        coords = self.fc_out(out)\n",
        "        return coords\n",
        "\n",
        "    def predict_multiple(self, x, n_samples=5):\n",
        "        self.train()  # Activate dropout during inference\n",
        "        with torch.no_grad():\n",
        "            outputs = [self(x) for _ in range(n_samples)]\n",
        "        return torch.stack(outputs)  # Shape: (n_samples, batch_size, seq_len, 3)"
      ]
    },
    {
      "cell_type": "code",
      "execution_count": 6,
      "metadata": {
        "colab": {
          "base_uri": "https://localhost:8080/"
        },
        "id": "ujvnX5UknP5W",
        "outputId": "2641e091-4a6d-4a1e-8543-93ae4b932e58"
      },
      "outputs": [
        {
          "name": "stdout",
          "output_type": "stream",
          "text": [
            "cuda\n"
          ]
        }
      ],
      "source": [
        "device = \"cuda\" if torch.cuda.is_available() else \"cpu\"\n",
        "print (device)"
      ]
    },
    {
      "cell_type": "code",
      "execution_count": null,
      "metadata": {},
      "outputs": [],
      "source": [
        "# live‑plotter\n",
        "plot_display_handle = None   # will hold the DisplayHandle returned by display()\n",
        "\n",
        "def plot_training_progress(epoch):\n",
        "    # Draw the loss curves without clearing cell output\n",
        "    global plot_display_handle\n",
        "\n",
        "    # build figure\n",
        "    fig, axs = plt.subplots(1, 2, figsize=(8, 3))\n",
        "    axs[0].plot(batch_loss_history, linewidth=1)\n",
        "    axs[0].set_title(\"Batch loss\")\n",
        "    axs[0].set_xlabel(\"Batch #\")\n",
        "    axs[0].set_ylabel(\"Mean Squared Error\")\n",
        "\n",
        "    axs[1].plot(epoch_loss_history, marker=\"o\")\n",
        "    axs[1].set_title(\"Epoch loss\")\n",
        "    axs[1].set_xlabel(\"Epoch\")\n",
        "\n",
        "    plt.tight_layout()\n",
        "    plt.suptitle(f\"Training progress after epoch {epoch+1}\", y=1.05, fontsize=14)\n",
        "\n",
        "    # first call then create display, later calls then update it\n",
        "    if plot_display_handle is None:\n",
        "        plot_display_handle = display(fig, display_id=True)\n",
        "    else:\n",
        "        plot_display_handle.update(fig)\n",
        "\n",
        "    plt.close(fig)  # prevent duplicate static image output"
      ]
    },
    {
      "cell_type": "code",
      "execution_count": null,
      "metadata": {
        "colab": {
          "base_uri": "https://localhost:8080/"
        },
        "id": "KC9qjEnrnP5X",
        "outputId": "bff6bf07-5464-4b40-ff2f-37e495518d2a"
      },
      "outputs": [
        {
          "name": "stdout",
          "output_type": "stream",
          "text": [
            "Max token ID: tensor(5, device='cuda:0')\n",
            "Embedding size: 6\n",
            "Output shape: torch.Size([2, 32, 3])\n"
          ]
        },
        {
          "name": "stderr",
          "output_type": "stream",
          "text": [
            "Epoch 1/10: 100%|██████████| 303/303 [00:03<00:00, 95.47batch/s, batch_loss=1.6219] \n"
          ]
        },
        {
          "name": "stdout",
          "output_type": "stream",
          "text": [
            "Epoch 1/10 | mean_loss: 1.0577 | last_batch_loss: 1.6219\n"
          ]
        },
        {
          "data": {
            "image/png": "[encoded data removed]",
            "text/plain": [
              "<Figure size 800x300 with 2 Axes>"
            ]
          },
          "metadata": {},
          "output_type": "display_data"
        },
        {
          "name": "stderr",
          "output_type": "stream",
          "text": [
            "Epoch 2/10: 100%|██████████| 303/303 [00:02<00:00, 103.05batch/s, batch_loss=1.1235] \n"
          ]
        },
        {
          "name": "stdout",
          "output_type": "stream",
          "text": [
            "Epoch 2/10 | mean_loss: 0.9598 | last_batch_loss: 1.1235\n"
          ]
        },
        {
          "name": "stderr",
          "output_type": "stream",
          "text": [
            "Epoch 3/10: 100%|██████████| 303/303 [00:02<00:00, 103.47batch/s, batch_loss=0.2638] \n"
          ]
        },
        {
          "name": "stdout",
          "output_type": "stream",
          "text": [
            "Epoch 3/10 | mean_loss: 0.9083 | last_batch_loss: 0.2638\n"
          ]
        },
        {
          "name": "stderr",
          "output_type": "stream",
          "text": [
            "Epoch 4/10: 100%|██████████| 303/303 [00:02<00:00, 103.76batch/s, batch_loss=0.4399] \n"
          ]
        },
        {
          "name": "stdout",
          "output_type": "stream",
          "text": [
            "Epoch 4/10 | mean_loss: 0.9249 | last_batch_loss: 0.4399\n"
          ]
        },
        {
          "name": "stderr",
          "output_type": "stream",
          "text": [
            "Epoch 5/10: 100%|██████████| 303/303 [00:02<00:00, 103.77batch/s, batch_loss=0.1705] \n"
          ]
        },
        {
          "name": "stdout",
          "output_type": "stream",
          "text": [
            "Epoch 5/10 | mean_loss: 0.8372 | last_batch_loss: 0.1705\n"
          ]
        },
        {
          "name": "stderr",
          "output_type": "stream",
          "text": [
            "Epoch 6/10: 100%|██████████| 303/303 [00:02<00:00, 103.48batch/s, batch_loss=0.1483]\n"
          ]
        },
        {
          "name": "stdout",
          "output_type": "stream",
          "text": [
            "Epoch 6/10 | mean_loss: 0.8159 | last_batch_loss: 0.1483\n"
          ]
        },
        {
          "name": "stderr",
          "output_type": "stream",
          "text": [
            "Epoch 7/10: 100%|██████████| 303/303 [00:03<00:00, 100.83batch/s, batch_loss=0.6429]\n"
          ]
        },
        {
          "name": "stdout",
          "output_type": "stream",
          "text": [
            "Epoch 7/10 | mean_loss: 0.8239 | last_batch_loss: 0.6429\n"
          ]
        },
        {
          "name": "stderr",
          "output_type": "stream",
          "text": [
            "Epoch 8/10: 100%|██████████| 303/303 [00:02<00:00, 103.62batch/s, batch_loss=0.1100]\n"
          ]
        },
        {
          "name": "stdout",
          "output_type": "stream",
          "text": [
            "Epoch 8/10 | mean_loss: 0.8454 | last_batch_loss: 0.1100\n"
          ]
        },
        {
          "name": "stderr",
          "output_type": "stream",
          "text": [
            "Epoch 9/10: 100%|██████████| 303/303 [00:03<00:00, 99.62batch/s, batch_loss=0.4007]  \n"
          ]
        },
        {
          "name": "stdout",
          "output_type": "stream",
          "text": [
            "Epoch 9/10 | mean_loss: 0.8096 | last_batch_loss: 0.4007\n"
          ]
        },
        {
          "name": "stderr",
          "output_type": "stream",
          "text": [
            "Epoch 10/10: 100%|██████████| 303/303 [00:03<00:00, 100.15batch/s, batch_loss=0.2569] \n"
          ]
        },
        {
          "name": "stdout",
          "output_type": "stream",
          "text": [
            "Epoch 10/10 | mean_loss: 0.7699 | last_batch_loss: 0.2569\n"
          ]
        }
      ],
      "source": [
        "dataset = RNADataset(\"./data/train_sequences.csv\", \"./data/train_labels.csv\") # replace with your *actual* path\n",
        "loader = DataLoader(dataset, batch_size=4, shuffle=True, collate_fn=collate_fn)\n",
        "# Ran at batch_size=2 due to memory constraints FYI\n",
        "\n",
        "model = RNA3DFoldPredictor(\n",
        "    vocab_size=VOCAB_SIZE,\n",
        "    embed_size=64,\n",
        "    num_layers=4,\n",
        "    heads=4,\n",
        "    forward_expansion=4,\n",
        "    dropout=0.2,\n",
        "    max_length=4298, # nearest multiple of 2 is 8192...actual max is 4298\n",
        ").to(device)\n",
        "criterion = nn.MSELoss()\n",
        "optimizer = torch.optim.Adam(model.parameters(), lr=1e-5)\n",
        "\n",
        "test_batch = next(iter(loader))\n",
        "seqs, coords, mask = [x.to(device) for x in test_batch]\n",
        "\n",
        "print(\"Max token ID:\", torch.max(seqs))  # Should be <= 3\n",
        "print(\"Embedding size:\", model.token_embedding.num_embeddings)  # Should be 4\n",
        "\n",
        "with torch.no_grad():\n",
        "    outputs = model(seqs, mask)\n",
        "print(\"Output shape:\", outputs.shape)\n",
        "\n",
        "num_epochs = 10\n",
        "for epoch in range(num_epochs):\n",
        "    model.train()\n",
        "    total_loss = 0\n",
        "    batch_num = 0\n",
        "    valid_batches = 0 # number of batches that actually updated the model\n",
        "    last_batch_loss = None # loss of the most recent successful batch\n",
        "    window_losses = [] # collects losses to compute 50 batch running mean\n",
        "\n",
        "    # tqdm bar stays in the terminal after finishing (leave=True)\n",
        "    batch_iterator = tqdm(\n",
        "        loader,\n",
        "        desc=f\"Epoch {epoch+1}/{num_epochs}\",\n",
        "        unit=\"batch\",\n",
        "        leave=True,\n",
        "        position=0,\n",
        "    )\n",
        "\n",
        "    for batch_num, (seqs, coords, mask) in enumerate(batch_iterator, start=1):\n",
        "        # print(\"Max token ID in batch:\", torch.max(seqs))\n",
        "        seqs, coords, mask = seqs.to(device), coords.to(device), mask.to(device)\n",
        "\n",
        "        # check for any NaN values\n",
        "        if torch.isnan(coords).any() or torch.isinf(coords).any():\n",
        "            batch_iterator.write(f\"WARNING: NaN/Inf found in target coordinates in batch {batch_num}! Skipping batch.\")\n",
        "            continue\n",
        "\n",
        "        optimizer.zero_grad()\n",
        "        outputs = model(seqs, mask)\n",
        "\n",
        "        # mask padding tokens only\n",
        "        non_pad_mask = (seqs != PAD_IDX) # Shape: (batch_size, seq_len)\n",
        "        outputs_masked = outputs[non_pad_mask]\n",
        "        coords_masked = coords[non_pad_mask]\n",
        "\n",
        "        # Calculate loss ONLY on non-padded elements\n",
        "        if outputs_masked.nelement() == 0:\n",
        "            batch_iterator.write(f\"WARNING: Only padding elements in batch {batch_num}! Skipping batch.\")\n",
        "            continue\n",
        "\n",
        "        loss = criterion(outputs_masked, coords_masked)\n",
        "\n",
        "        # Skip if loss is NaN or Inf\n",
        "        if torch.isnan(loss) or torch.isinf(loss):\n",
        "            batch_iterator.write(f\"WARNING: NaN detected in loss for batch {batch_num}! Skipping batch.\")\n",
        "            # Add more debugging here if needed: print outputs_masked, coords_masked\n",
        "            continue # Skip optimization step for this batch\n",
        "\n",
        "        # Backpropagation\n",
        "        loss.backward()\n",
        "        # Gradient Clipping\n",
        "        torch.nn.utils.clip_grad_norm_(model.parameters(), max_norm=1.0)\n",
        "        optimizer.step()\n",
        "\n",
        "        last_batch_loss = loss.item()\n",
        "        batch_loss_history.append(last_batch_loss)\n",
        "        window_losses.append(last_batch_loss)\n",
        "\n",
        "        total_loss += last_batch_loss\n",
        "        valid_batches += 1\n",
        "\n",
        "        # update tqdm bar postfix\n",
        "        batch_iterator.set_postfix({\"batch_loss\": f\"{last_batch_loss:.4f}\"})\n",
        "\n",
        "        # Every 50 valid batches, print the running mean and reset the window (disabled because it's spammy)\n",
        "        if len(window_losses) == 50:\n",
        "            mean50 = sum(window_losses) / 50\n",
        "            # print(f\"Mean loss over batches {batch_num-49}-{batch_num}: {mean50:.4f}\")\n",
        "            window_losses.clear()\n",
        "\n",
        "    # Epoch‑level summary\n",
        "    if valid_batches > 0:\n",
        "        epoch_loss = total_loss / valid_batches\n",
        "        epoch_loss_history.append(epoch_loss)\n",
        "        print(\n",
        "            f\"Epoch {epoch+1}/{num_epochs}\"\n",
        "            f\" | mean_loss: {epoch_loss:.4f}\"\n",
        "            f\" | last_batch_loss: {last_batch_loss:.4f}\"\n",
        "        )\n",
        "    else:\n",
        "        print(f\"Epoch {epoch+1} had no valid batches or zero total loss.\")\n",
        "\n",
        "    # live plot (comment out for end‑of‑training plot only)\n",
        "    plot_training_progress(epoch)"
      ]
    },
    {
      "cell_type": "code",
      "execution_count": null,
      "metadata": {},
      "outputs": [],
      "source": []
    }
  ],
  "metadata": {
    "accelerator": "GPU",
    "colab": {
      "gpuType": "T4",
      "provenance": []
    },
    "kernelspec": {
      "display_name": "Python 3",
      "name": "python3"
    },
    "language_info": {
      "codemirror_mode": {
        "name": "ipython",
        "version": 3
      },
      "file_extension": ".py",
      "mimetype": "text/x-python",
      "name": "python",
      "nbconvert_exporter": "python",
      "pygments_lexer": "ipython3",
      "version": "3.12.4"
    }
  },
  "nbformat": 4,
  "nbformat_minor": 0
}
